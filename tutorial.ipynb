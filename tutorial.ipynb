{
 "cells": [
  {
   "attachments": {},
   "cell_type": "markdown",
   "metadata": {},
   "source": [
    "$ mkdir tutorial\n",
    "$ cd tutorial\n",
    "$ python -m venv venv\n",
    "$ source venv/bin/activate\n",
    "$ pip list\n",
    "$ python -m pip install --upgrade pip\n",
    "$ pip install django\n",
    "$ pip list\n",
    "$ django-admin startproject django_apps_tutorial\n",
    "$ cd django_apps_tutorial/\n",
    "$ python manage.py startapp versicherung\n",
    "$ python manage.py startapp main\n",
    "$ python manage.py makemigrations\n",
    "$ python manage.py migrate\n",
    "\n",
    "-create super user, give username and password\n",
    "$ python manage.py createsuperuser\n",
    "username$ari\n",
    "password$qscwdv98\n",
    "\n",
    "- run server\n",
    "$python manage.py runserver\n",
    "\n",
    "\n"
   ]
  }
 ],
 "metadata": {
  "language_info": {
   "name": "python"
  },
  "orig_nbformat": 4
 },
 "nbformat": 4,
 "nbformat_minor": 2
}
